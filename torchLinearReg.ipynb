{
  "nbformat": 4,
  "nbformat_minor": 0,
  "metadata": {
    "colab": {
      "name": "torchLinearReg.ipynb",
      "provenance": [],
      "collapsed_sections": [],
      "authorship_tag": "ABX9TyP88Cy8TNF1RDH2jOQKo9fZ"
    },
    "kernelspec": {
      "name": "python3",
      "display_name": "Python 3"
    },
    "accelerator": "GPU"
  },
  "cells": [
    {
      "cell_type": "code",
      "metadata": {
        "id": "RyANdWPnW1sh"
      },
      "source": [
        "import torch\r\n",
        "import numpy as np\r\n",
        "from matplotlib import pyplot as plt\r\n",
        "from sklearn import datasets #to generate a regression dataset\r\n",
        "from torch import nn"
      ],
      "execution_count": null,
      "outputs": []
    },
    {
      "cell_type": "code",
      "metadata": {
        "id": "9-wB_a9LXFYl"
      },
      "source": [
        "#prepare data\r\n",
        "x_numpy, y_numpy=datasets.make_regression(n_features=1,noise=10,random_state=1)\r\n",
        "#convert them into torch tensor\r\n",
        "x_torch=torch.from_numpy(x_numpy.astype(np.float32))\r\n",
        "y_torch=torch.from_numpy(y_numpy.astype(np.float32))\r\n",
        "y_torch=y_torch.view(y_torch.shape[0],1)"
      ],
      "execution_count": null,
      "outputs": []
    },
    {
      "cell_type": "code",
      "metadata": {
        "id": "PfJA_SeJaGK6"
      },
      "source": [
        "#model\r\n",
        "model=nn.Linear(y_torch.shape[1],1)"
      ],
      "execution_count": null,
      "outputs": []
    },
    {
      "cell_type": "code",
      "metadata": {
        "id": "Q252tMGuaZbo"
      },
      "source": [
        "#loss & optimizer\r\n",
        "criteria=nn.MSELoss()\r\n",
        "optimizer=torch.optim.SGD(model.parameters(),lr=1e-3)"
      ],
      "execution_count": null,
      "outputs": []
    },
    {
      "cell_type": "code",
      "metadata": {
        "colab": {
          "base_uri": "https://localhost:8080/",
          "height": 265
        },
        "id": "_lDmVl6UbCaA",
        "outputId": "fc074e86-fa6a-4e10-81b1-f7912c64b89c"
      },
      "source": [
        "#training\r\n",
        "for epoch in range(250):\r\n",
        "  #forward pass and loss\r\n",
        "  y_pred=model(x_torch)\r\n",
        "  loss=criteria(y_pred,y_torch)\r\n",
        "  #backward pass\r\n",
        "  loss.backward()\r\n",
        "  #update\r\n",
        "  optimizer.step()\r\n",
        "  optimizer.zero_grad()\r\n",
        "pred=model(x_torch).detach()\r\n",
        "#ploting \r\n",
        "plt.plot(x_numpy,y_numpy,'ro')\r\n",
        "plt.plot(x_numpy,pred,'b')\r\n",
        "plt.show()"
      ],
      "execution_count": null,
      "outputs": [
        {
          "output_type": "display_data",
          "data": {
            "image/png": "[encoded data removed]",
            "text/plain": [
              "<Figure size 432x288 with 1 Axes>"
            ]
          },
          "metadata": {
            "tags": [],
            "needs_background": "light"
          }
        }
      ]
    }
  ]
}