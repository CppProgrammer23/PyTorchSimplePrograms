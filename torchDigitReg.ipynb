{
  "nbformat": 4,
  "nbformat_minor": 0,
  "metadata": {
    "colab": {
      "name": "torchDigitReg.ipynb",
      "provenance": [],
      "collapsed_sections": [],
      "authorship_tag": "ABX9TyM2Y2R275bW1QOe8ewgICVM"
    },
    "kernelspec": {
      "name": "python3",
      "display_name": "Python 3"
    }
  },
  "cells": [
    {
      "cell_type": "code",
      "metadata": {
        "id": "GraMPD6hXxKI"
      },
      "source": [
        "import torch\r\n",
        "from torch import nn\r\n",
        "import torchvision\r\n",
        "import torchvision.transforms as tt\r\n",
        "import matplotlib.pyplot as plt"
      ],
      "execution_count": 1,
      "outputs": []
    },
    {
      "cell_type": "code",
      "metadata": {
        "id": "x72AP_hRYKXB"
      },
      "source": [
        "#device config\r\n",
        "device=torch.device('cuda' if torch.cuda.is_available() else 'cpu')"
      ],
      "execution_count": 2,
      "outputs": []
    },
    {
      "cell_type": "code",
      "metadata": {
        "id": "WVZV8QgDYgGx"
      },
      "source": [
        "#hyperparameters\r\n",
        "input_size=784 #28p*28p\r\n",
        "hidden_size=100\r\n",
        "output=10\r\n",
        "epoch=2\r\n",
        "lr=1e-4\r\n",
        "batch_size=100"
      ],
      "execution_count": 3,
      "outputs": []
    },
    {
      "cell_type": "code",
      "metadata": {
        "id": "CKydiDomY5Ns"
      },
      "source": [
        "#preparing the MNIST dataset\r\n",
        "train_dataset=torchvision.datasets.MNIST('./data',transform=tt.ToTensor(),download=True)\r\n",
        "test_dataset=torchvision.datasets.MNIST('./data',transform=tt.ToTensor())\r\n",
        "train_loader=torch.utils.data.DataLoader(train_dataset,batch_size,shuffle=True)\r\n",
        "test_loader=torch.utils.data.DataLoader(test_dataset,batch_size)\r\n",
        "\r\n",
        "example=iter(train_loader)\r\n",
        "sample, label=example.next()"
      ],
      "execution_count": 13,
      "outputs": []
    },
    {
      "cell_type": "code",
      "metadata": {
        "colab": {
          "base_uri": "https://localhost:8080/"
        },
        "id": "P_rFe5JWa4Vx",
        "outputId": "c7ddb1c1-2388-4b82-e0ee-f216cefa77b9"
      },
      "source": [
        "print(sample.shape, label.shape)"
      ],
      "execution_count": 7,
      "outputs": [
        {
          "output_type": "stream",
          "text": [
            "torch.Size([100, 1, 28, 28]) torch.Size([100])\n"
          ],
          "name": "stdout"
        }
      ]
    },
    {
      "cell_type": "code",
      "metadata": {
        "colab": {
          "base_uri": "https://localhost:8080/",
          "height": 267
        },
        "id": "UUigRhC8bg4h",
        "outputId": "592cfdbe-a797-45f9-c3ba-54facaf980cb"
      },
      "source": [
        "for i in range(6):\r\n",
        "  plt.subplot(2,3,i+1)\r\n",
        "  plt.imshow(sample[i][0],cmap='gray')\r\n",
        "  "
      ],
      "execution_count": 8,
      "outputs": [
        {
          "output_type": "display_data",
          "data": {
            "image/png": "[encoded data removed]",
            "text/plain": [
              "<Figure size 432x288 with 6 Axes>"
            ]
          },
          "metadata": {
            "tags": [],
            "needs_background": "light"
          }
        }
      ]
    },
    {
      "cell_type": "code",
      "metadata": {
        "id": "kAHDE2t6cND0"
      },
      "source": [
        "#the model\r\n",
        "class NeuralNet(nn.Module):\r\n",
        "  def __init__(self,input_size,hidden_size,output):\r\n",
        "    super(NeuralNet,self).__init__()\r\n",
        "    self.layer1=nn.Linear(input_size,hidden_size)\r\n",
        "    self.relu=nn.ReLU()\r\n",
        "    self.layer2=nn.Linear(hidden_size,output)\r\n",
        "\r\n",
        "  def forward(self,sample):\r\n",
        "    out=self.layer1(sample)\r\n",
        "    out=self.relu(out)\r\n",
        "    out=self.layer2(out)\r\n",
        "    return out"
      ],
      "execution_count": 9,
      "outputs": []
    },
    {
      "cell_type": "code",
      "metadata": {
        "id": "pVMngIRvdRe-"
      },
      "source": [
        "model=NeuralNet(input_size,hidden_size,output)\r\n",
        "#Loss and optimizer\r\n",
        "criteria=nn.CrossEntropyLoss()\r\n",
        "optimizer=torch.optim.Adam(model.parameters(),lr)"
      ],
      "execution_count": 10,
      "outputs": []
    },
    {
      "cell_type": "code",
      "metadata": {
        "id": "rxWmB_ofew9t"
      },
      "source": [
        "#training loop\r\n",
        "n_steps=len(train_loader)\r\n",
        "for i in range(epoch):\r\n",
        "  for j, (images,label) in enumerate(train_loader):\r\n",
        "    images=images.reshape(-1,28*28).to(device)\r\n",
        "    label=label.to(device)\r\n",
        "    #forward\r\n",
        "    out=model(images)\r\n",
        "    loss=criteria(out,label)\r\n",
        "    #backward\r\n",
        "    optimizer.zero_grad()\r\n",
        "    loss.backward()\r\n",
        "    optimizer.step()"
      ],
      "execution_count": 12,
      "outputs": []
    },
    {
      "cell_type": "code",
      "metadata": {
        "colab": {
          "base_uri": "https://localhost:8080/"
        },
        "id": "VsOsHDK9gb41",
        "outputId": "10abc8b7-116b-4885-8446-a635f3813bcb"
      },
      "source": [
        "#test\r\n",
        "with torch.no_grad():\r\n",
        "  n_correct=0\r\n",
        "  n_samples=0\r\n",
        "  for image,label in test_loader:\r\n",
        "    image=image.reshape(-1,28*28).to(device)\r\n",
        "    label=label.to(device)\r\n",
        "    out=model(image)\r\n",
        "    val,pred=torch.max(out,1)\r\n",
        "    #print(val)\r\n",
        "    n_samples+=label.shape[0]\r\n",
        "    n_correct+=(pred==label).sum().item()\r\n",
        "  acc=n_correct/n_samples *100\r\n",
        "  print(f'Accuracy = {acc}%')"
      ],
      "execution_count": 15,
      "outputs": [
        {
          "output_type": "stream",
          "text": [
            "Accuracy = 89.615%\n"
          ],
          "name": "stdout"
        }
      ]
    },
    {
      "cell_type": "code",
      "metadata": {
        "colab": {
          "base_uri": "https://localhost:8080/",
          "height": 267
        },
        "id": "wsqUYzavjfZX",
        "outputId": "6a6a0162-cb7a-4815-a55c-f4825db424c6"
      },
      "source": [
        "example=iter(test_loader)\r\n",
        "sample, label=example.next()\r\n",
        "for i in range(6):\r\n",
        "  plt.subplot(2,3,i+1)\r\n",
        "  plt.imshow(sample[i][0],cmap='gray')"
      ],
      "execution_count": 16,
      "outputs": [
        {
          "output_type": "display_data",
          "data": {
            "image/png": "[encoded data removed]",
            "text/plain": [
              "<Figure size 432x288 with 6 Axes>"
            ]
          },
          "metadata": {
            "tags": [],
            "needs_background": "light"
          }
        }
      ]
    }
  ]
}